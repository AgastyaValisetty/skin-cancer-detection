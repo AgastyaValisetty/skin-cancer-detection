{
 "cells": [
  {
   "cell_type": "code",
   "execution_count": 5,
   "id": "initial_id",
   "metadata": {
    "ExecuteTime": {
     "end_time": "2024-10-19T13:24:01.111759Z",
     "start_time": "2024-10-19T13:24:01.105650Z"
    },
    "collapsed": true
   },
   "outputs": [],
   "source": [
    "import torch\n",
    "import torch.nn as nn\n",
    "import torch.optim as optim\n",
    "from torchvision import datasets, transforms\n",
    "import torchvision.models as models\n",
    "from torchvision.models import resnet50, ResNet50_Weights\n",
    "import os"
   ]
  },
  {
   "cell_type": "code",
   "execution_count": 6,
   "id": "14941eded1f7e2d0",
   "metadata": {
    "ExecuteTime": {
     "end_time": "2024-10-19T13:24:01.496810Z",
     "start_time": "2024-10-19T13:24:01.486752Z"
    }
   },
   "outputs": [],
   "source": [
    "data_transforms = {\n",
    "    'train': transforms.Compose([\n",
    "        transforms.RandomResizedCrop((300,225)),\n",
    "        transforms.ToTensor(),\n",
    "       # transforms.Normalize([0.485, 0.456, 0.406], [0.229, 0.224, 0.225])\n",
    "    ]),\n",
    "    'test': transforms.Compose([\n",
    "        transforms.RandomResizedCrop((300,225)),\n",
    "        transforms.ToTensor(),\n",
    "    ]),\n",
    "}"
   ]
  },
  {
   "cell_type": "code",
   "execution_count": 7,
   "id": "925f60b0",
   "metadata": {},
   "outputs": [],
   "source": [
    "data_transforms = {\n",
    "    'train': transforms.Compose([\n",
    "        transforms.Resize((300,225)),\n",
    "        #transforms.RandomHorizontalFlip(p=0.5),\n",
    "        transforms.ToTensor()\n",
    "       # transforms.Normalize([0.485, 0.456, 0.406], [0.229, 0.224, 0.225])\n",
    "    ]),\n",
    "    'test': transforms.Compose([\n",
    "        transforms.Resize((300,225)),\n",
    "        #transforms.RandomHorizontalFlip(p=0.5),\n",
    "        transforms.ToTensor()\n",
    "    ]),\n",
    "}"
   ]
  },
  {
   "cell_type": "markdown",
   "id": "53a94b2b",
   "metadata": {},
   "source": [
    "PARAMETERS:"
   ]
  },
  {
   "cell_type": "code",
   "execution_count": 8,
   "id": "f6b50d9e",
   "metadata": {},
   "outputs": [],
   "source": [
    "lr = 0.001\n",
    "mm = 0.5\n",
    "batch_size = 16"
   ]
  },
  {
   "cell_type": "code",
   "execution_count": 9,
   "id": "fac60e72f46a11fd",
   "metadata": {
    "ExecuteTime": {
     "end_time": "2024-10-19T13:24:15.205439Z",
     "start_time": "2024-10-19T13:24:15.156999Z"
    }
   },
   "outputs": [],
   "source": [
    "data_dir = './new_data_balanced'\n",
    "\n",
    "image_datasets = {x: datasets.ImageFolder(os.path.join(data_dir, x), data_transforms[x]) for x in ['train', 'test']}"
   ]
  },
  {
   "cell_type": "code",
   "execution_count": 10,
   "id": "980ea638935c36e6",
   "metadata": {
    "ExecuteTime": {
     "end_time": "2024-10-19T13:24:15.835143Z",
     "start_time": "2024-10-19T13:24:15.828028Z"
    }
   },
   "outputs": [
    {
     "name": "stdout",
     "output_type": "stream",
     "text": [
      "{'train': 8415, 'test': 671}\n"
     ]
    },
    {
     "data": {
      "text/plain": [
       "['benign', 'malignant']"
      ]
     },
     "execution_count": 10,
     "metadata": {},
     "output_type": "execute_result"
    }
   ],
   "source": [
    "dataloaders = {x: torch.utils.data.DataLoader(image_datasets[x], batch_size=batch_size, shuffle=True, num_workers=4) for x in ['train', 'test']}\n",
    "dataset_sizes = {x: len(image_datasets[x]) for x in ['train', 'test']}\n",
    "print(dataset_sizes)\n",
    "\n",
    "class_names = image_datasets['train'].classes\n",
    "class_names"
   ]
  },
  {
   "cell_type": "code",
   "execution_count": 14,
   "id": "c1685c7c5f928b87",
   "metadata": {
    "ExecuteTime": {
     "end_time": "2024-10-19T13:32:25.865459Z",
     "start_time": "2024-10-19T13:32:25.858033Z"
    }
   },
   "outputs": [
    {
     "name": "stderr",
     "output_type": "stream",
     "text": [
      "c:\\Users\\Agastya\\AppData\\Local\\Programs\\Python\\Python312\\Lib\\site-packages\\torchvision\\models\\_utils.py:208: UserWarning: The parameter 'pretrained' is deprecated since 0.13 and may be removed in the future, please use 'weights' instead.\n",
      "  warnings.warn(\n",
      "c:\\Users\\Agastya\\AppData\\Local\\Programs\\Python\\Python312\\Lib\\site-packages\\torchvision\\models\\_utils.py:223: UserWarning: Arguments other than a weight enum or `None` for 'weights' are deprecated since 0.13 and may be removed in the future. The current behavior is equivalent to passing `weights=ResNet50_Weights.IMAGENET1K_V1`. You can also use `weights=ResNet50_Weights.DEFAULT` to get the most up-to-date weights.\n",
      "  warnings.warn(msg)\n"
     ]
    }
   ],
   "source": [
    "model = models.resnet50(pretrained=True)\n",
    "\"\"\" model = models.vgg16(pretrained=True) \"\"\"\n",
    "\n",
    "for name, param in model.named_parameters():#reactiviting shit or smtg i dont get it, look into this later\n",
    "    if \"fc\" in name:\n",
    "        param.requires_grad = True\n",
    "    else:\n",
    "        param.requires_grad = True\n",
    "        \n",
    "criterion = nn.CrossEntropyLoss()\n",
    "optimizer = optim.SGD(model.parameters(), lr=lr, momentum=mm) \n",
    "\n",
    "\n",
    "device = torch.device(\"cuda:0\" if torch.cuda.is_available() else \"cpu\")\n",
    "model = model.to(device)"
   ]
  },
  {
   "cell_type": "code",
   "execution_count": null,
   "id": "f3f11be2",
   "metadata": {},
   "outputs": [
    {
     "name": "stdout",
     "output_type": "stream",
     "text": [
      "\n",
      "epoch: 1 \n",
      "train Loss: 0.0472 Acc: 98.4314%\n",
      "\n",
      "epoch: 1 \n",
      "test Loss: 0.5106 Acc: 84.3517%\n",
      "\n",
      "epoch: 2 \n",
      "train Loss: 0.0144 Acc: 99.4890%\n",
      "\n",
      "epoch: 2 \n",
      "test Loss: 0.4599 Acc: 84.9478%\n",
      "\n",
      "epoch: 3 \n",
      "train Loss: 0.0113 Acc: 99.7029%\n",
      "\n",
      "epoch: 3 \n",
      "test Loss: 0.4970 Acc: 83.4575%\n",
      "\n",
      "epoch: 4 \n",
      "train Loss: 0.0059 Acc: 99.8812%\n",
      "\n",
      "epoch: 4 \n",
      "test Loss: 0.5612 Acc: 82.8614%\n",
      "\n",
      "epoch: 5 \n",
      "train Loss: 0.0068 Acc: 99.8099%\n",
      "\n",
      "epoch: 5 \n",
      "test Loss: 0.4656 Acc: 84.5007%\n",
      "\n",
      "epoch: 6 \n",
      "train Loss: 0.0048 Acc: 99.9168%\n",
      "\n",
      "epoch: 6 \n",
      "test Loss: 0.6051 Acc: 82.7124%\n",
      "\n",
      "epoch: 7 \n",
      "train Loss: 0.0059 Acc: 99.8812%\n",
      "\n",
      "epoch: 7 \n",
      "test Loss: 0.6141 Acc: 81.3711%\n"
     ]
    }
   ],
   "source": [
    "\n",
    "num_epochs = 10\n",
    "for epoch in range(1,num_epochs+1):\n",
    "    for phase in ['train', 'test']:\n",
    "        if phase == 'train':\n",
    "            model.train()\n",
    "        else:\n",
    "            model.eval()\n",
    "\n",
    "        running_loss = 0.0\n",
    "        running_corrects = 0\n",
    "\n",
    "        for inputs, labels in dataloaders[phase]:\n",
    "            inputs = inputs.to(device)\n",
    "            labels = labels.to(device)\n",
    "\n",
    "            optimizer.zero_grad()\n",
    "\n",
    "            with torch.set_grad_enabled(phase == 'train'):\n",
    "                outputs = model(inputs)\n",
    "                _, preds = torch.max(outputs, 1)\n",
    "                loss = criterion(outputs, labels)\n",
    "\n",
    "                if phase == 'train':\n",
    "                    loss.backward()\n",
    "                    optimizer.step()\n",
    "\n",
    "            running_loss += loss.item() * inputs.size(0)\n",
    "            running_corrects += torch.sum(preds == labels.data)\n",
    "\n",
    "        epoch_loss = running_loss / dataset_sizes[phase]\n",
    "        epoch_acc = running_corrects.double() / dataset_sizes[phase]\n",
    "\n",
    "        print(f'\\nepoch: {epoch} \\n{phase} Loss: {epoch_loss:.4f} Acc: {100*(epoch_acc):.4f}%')"
   ]
  },
  {
   "cell_type": "code",
   "execution_count": 20,
   "id": "5522ef762f2b4b3e",
   "metadata": {
    "ExecuteTime": {
     "end_time": "2024-10-19T13:02:20.096601Z",
     "start_time": "2024-10-19T13:02:19.957468Z"
    }
   },
   "outputs": [],
   "source": [
    "# Save the model\n",
    "torch.save(model.state_dict(), 'model_85-17.pth')"
   ]
  },
  {
   "cell_type": "markdown",
   "id": "17350670140ae08d",
   "metadata": {},
   "source": [
    "EVAL FRESHLY TRAINED MODEL:"
   ]
  },
  {
   "cell_type": "code",
   "execution_count": 30,
   "id": "e44af896",
   "metadata": {},
   "outputs": [
    {
     "data": {
      "image/png": "[encoded data removed]",
      "text/plain": [
       "<Figure size 600x400 with 2 Axes>"
      ]
     },
     "metadata": {},
     "output_type": "display_data"
    }
   ],
   "source": [
    "import torch\n",
    "import torch.nn as nn\n",
    "from sklearn.metrics import confusion_matrix\n",
    "import seaborn as sns\n",
    "import matplotlib.pyplot as plt\n",
    "import numpy as np\n",
    "\n",
    "# Assuming new_model is your trained model\n",
    "# Assuming you have a DataLoader named 'test_loader' for your test dataset\n",
    "\n",
    "# Set model to evaluation mode\n",
    "model.eval()\n",
    "\n",
    "# Initialize lists to store true and predicted labels\n",
    "all_preds = []\n",
    "all_labels = []\n",
    "\n",
    "# Disable gradient calculation\n",
    "with torch.no_grad():\n",
    "    for inputs, labels in dataloaders['test']:  # Assuming you have a test DataLoader\n",
    "        inputs = inputs.to(device)  # Move inputs to device (GPU/CPU)\n",
    "        labels = labels.to(device)  # Move labels to device (GPU/CPU)\n",
    "\n",
    "        # Get model predictions\n",
    "        outputs = model(inputs)\n",
    "        _, preds = torch.max(outputs, 1)  # Get predicted class (0 or 1 for 2-class classification)\n",
    "\n",
    "        # Store predictions and actual labels\n",
    "        all_preds.extend(preds.cpu().numpy())\n",
    "        all_labels.extend(labels.cpu().numpy())\n",
    "\n",
    "# Compute confusion matrix\n",
    "conf_matrix = confusion_matrix(all_labels, all_preds)\n",
    "\n",
    "# Plot confusion matrix using Seaborn\n",
    "plt.figure(figsize=(6,4))\n",
    "sns.heatmap(conf_matrix, annot=True, fmt=\"d\", cmap=\"Blues\", xticklabels=['benign', 'malignant'], yticklabels=['benign', 'malignant'])\n",
    "plt.xlabel('Predicted')\n",
    "plt.ylabel('Actual')\n",
    "plt.title('Confusion Matrix')\n",
    "plt.show()\n"
   ]
  },
  {
   "cell_type": "markdown",
   "id": "17d15a7d",
   "metadata": {},
   "source": [
    "EVAL LOADED MODEL:"
   ]
  },
  {
   "cell_type": "markdown",
   "id": "5493f102",
   "metadata": {},
   "source": [
    "1.)Loading the model(.pth file):"
   ]
  },
  {
   "cell_type": "code",
   "execution_count": 11,
   "id": "80f390b5",
   "metadata": {},
   "outputs": [
    {
     "name": "stderr",
     "output_type": "stream",
     "text": [
      "c:\\Users\\Agastya\\AppData\\Local\\Programs\\Python\\Python312\\Lib\\site-packages\\torchvision\\models\\_utils.py:208: UserWarning: The parameter 'pretrained' is deprecated since 0.13 and may be removed in the future, please use 'weights' instead.\n",
      "  warnings.warn(\n",
      "c:\\Users\\Agastya\\AppData\\Local\\Programs\\Python\\Python312\\Lib\\site-packages\\torchvision\\models\\_utils.py:223: UserWarning: Arguments other than a weight enum or `None` for 'weights' are deprecated since 0.13 and may be removed in the future. The current behavior is equivalent to passing `weights=None`.\n",
      "  warnings.warn(msg)\n",
      "C:\\Users\\Agastya\\AppData\\Local\\Temp\\ipykernel_15184\\1622405393.py:4: FutureWarning: You are using `torch.load` with `weights_only=False` (the current default value), which uses the default pickle module implicitly. It is possible to construct malicious pickle data which will execute arbitrary code during unpickling (See https://github.com/pytorch/pytorch/blob/main/SECURITY.md#untrusted-models for more details). In a future release, the default value for `weights_only` will be flipped to `True`. This limits the functions that could be executed during unpickling. Arbitrary objects will no longer be allowed to be loaded via this mode unless they are explicitly allowlisted by the user via `torch.serialization.add_safe_globals`. We recommend you start setting `weights_only=True` for any use case where you don't have full control of the loaded file. Please open an issue on GitHub for any issues related to this experimental feature.\n",
      "  model_load.load_state_dict(torch.load('model_86-69.pth'))\n",
      "c:\\Users\\Agastya\\AppData\\Local\\Programs\\Python\\Python312\\Lib\\site-packages\\torchvision\\models\\_utils.py:223: UserWarning: Arguments other than a weight enum or `None` for 'weights' are deprecated since 0.13 and may be removed in the future. The current behavior is equivalent to passing `weights=ResNet50_Weights.IMAGENET1K_V1`. You can also use `weights=ResNet50_Weights.DEFAULT` to get the most up-to-date weights.\n",
      "  warnings.warn(msg)\n"
     ]
    },
    {
     "data": {
      "text/plain": [
       "<All keys matched successfully>"
      ]
     },
     "execution_count": 11,
     "metadata": {},
     "output_type": "execute_result"
    }
   ],
   "source": [
    "model_load = models.resnet50(pretrained=False)  \n",
    "model_load.fc = nn.Linear(model_load.fc.in_features, 1000)  \n",
    "\n",
    "model_load.load_state_dict(torch.load('model_86-69.pth'))\n",
    "model_load.eval()\n",
    "\n",
    "new_model = models.resnet50(pretrained=True)\n",
    "new_model.fc = nn.Linear(new_model.fc.in_features, 2) \n",
    "pretrained_dict = model_load.state_dict()\n",
    "\n",
    "new_model_dict = new_model.state_dict()\n",
    "\n",
    "pretrained_dict = {k: v for k, v in pretrained_dict.items() if \"fc\" not in k}\n",
    "\n",
    "\n",
    "new_model_dict.update(pretrained_dict)\n",
    "new_model.load_state_dict(new_model_dict)"
   ]
  },
  {
   "cell_type": "code",
   "execution_count": 12,
   "id": "6e2dcfdb",
   "metadata": {},
   "outputs": [
    {
     "data": {
      "image/png": "[encoded data removed]",
      "text/plain": [
       "<Figure size 600x400 with 2 Axes>"
      ]
     },
     "metadata": {},
     "output_type": "display_data"
    }
   ],
   "source": [
    "import torch\n",
    "import torch.nn as nn\n",
    "from sklearn.metrics import confusion_matrix\n",
    "import seaborn as sns\n",
    "import matplotlib.pyplot as plt\n",
    "import numpy as np\n",
    "\n",
    "device = \"cpu\"\n",
    "model_load.eval()\n",
    "all_preds = []\n",
    "all_labels = []\n",
    "\n",
    "with torch.no_grad():\n",
    "    for inputs, labels in dataloaders['test']:\n",
    "        inputs = inputs.to(device)  \n",
    "        labels = labels.to(device) \n",
    "\n",
    "        outputs = model_load(inputs)\n",
    "        _, preds = torch.max(outputs, 1) \n",
    "\n",
    "        all_preds.extend(preds.cpu().numpy())\n",
    "        all_labels.extend(labels.cpu().numpy())\n",
    "\n",
    "conf_matrix = confusion_matrix(all_labels, all_preds)\n",
    "\n",
    "plt.figure(figsize=(6,4))\n",
    "sns.heatmap(conf_matrix, annot=True, fmt=\"d\", cmap=\"Blues\", xticklabels=['benign', 'malignant'], yticklabels=['benign', 'malignant'])\n",
    "plt.xlabel('Predicted')\n",
    "plt.ylabel('Actual')\n",
    "plt.title('Confusion Matrix')\n",
    "plt.show()\n"
   ]
  },
  {
   "cell_type": "markdown",
   "id": "4a762d23",
   "metadata": {},
   "source": [
    "The above confusion matrix is of the model which we got the best accuracy in"
   ]
  }
 ],
 "metadata": {
  "kernelspec": {
   "display_name": "Python 3",
   "language": "python",
   "name": "python3"
  },
  "language_info": {
   "codemirror_mode": {
    "name": "ipython",
    "version": 3
   },
   "file_extension": ".py",
   "mimetype": "text/x-python",
   "name": "python",
   "nbconvert_exporter": "python",
   "pygments_lexer": "ipython3",
   "version": "3.12.5"
  }
 },
 "nbformat": 4,
 "nbformat_minor": 5
}
